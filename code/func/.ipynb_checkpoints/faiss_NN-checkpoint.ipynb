{
 "cells": [
  {
   "cell_type": "code",
   "execution_count": 1,
   "id": "79ebfc9d",
   "metadata": {},
   "outputs": [],
   "source": [
    "import numpy as np\n",
    "import faiss"
   ]
  },
  {
   "cell_type": "code",
   "execution_count": 2,
   "id": "65c79c50",
   "metadata": {},
   "outputs": [],
   "source": [
    "def get_NN(x, nNbor):\n",
    "    n, d = x.shape\n",
    "#     x = np.ascontiguousarray(x.astype(np.float32))\n",
    "    quantizer = faiss.IndexFlatL2(d)\n",
    "    index = faiss.IndexIVFFlat(quantizer, d, 1024)\n",
    "    index.train(x)\n",
    "    index.add(x)\n",
    "    index.nprobe = 256\n",
    "    _, IAprx = index.search(x, nNbor)\n",
    "    return IAprx"
   ]
  }
 ],
 "metadata": {
  "kernelspec": {
   "display_name": "Python 3 (ipykernel)",
   "language": "python",
   "name": "python3"
  },
  "language_info": {
   "codemirror_mode": {
    "name": "ipython",
    "version": 3
   },
   "file_extension": ".py",
   "mimetype": "text/x-python",
   "name": "python",
   "nbconvert_exporter": "python",
   "pygments_lexer": "ipython3",
   "version": "3.9.7"
  }
 },
 "nbformat": 4,
 "nbformat_minor": 5
}
