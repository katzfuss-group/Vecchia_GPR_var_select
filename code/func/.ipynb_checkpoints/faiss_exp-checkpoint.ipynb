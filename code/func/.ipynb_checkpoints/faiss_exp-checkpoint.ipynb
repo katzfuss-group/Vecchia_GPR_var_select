{
 "cells": [
  {
   "cell_type": "code",
   "execution_count": 1,
   "id": "7eb6885f",
   "metadata": {},
   "outputs": [],
   "source": [
    "import numpy as np\n",
    "import faiss"
   ]
  },
  {
   "cell_type": "code",
   "execution_count": 2,
   "id": "8367f4ab",
   "metadata": {},
   "outputs": [],
   "source": [
    "data = np.genfromtxt(\"../sim_Piston/data/piston_10000_1000_0_train.csv\", \n",
    "              delimiter = ',')"
   ]
  },
  {
   "cell_type": "code",
   "execution_count": 32,
   "id": "eb90cebc",
   "metadata": {},
   "outputs": [
    {
     "ename": "IndentationError",
     "evalue": "expected an indented block (3353925456.py, line 1)",
     "output_type": "error",
     "traceback": [
      "\u001b[0;36m  File \u001b[0;32m\"/var/folders/n2/vrqrl8bx2xvgrrn31z6lfxzr0000gn/T/ipykernel_26136/3353925456.py\"\u001b[0;36m, line \u001b[0;32m1\u001b[0m\n\u001b[0;31m    def get_NN(fn, nNbor):\u001b[0m\n\u001b[0m                          ^\u001b[0m\n\u001b[0;31mIndentationError\u001b[0m\u001b[0;31m:\u001b[0m expected an indented block\n"
     ]
    }
   ],
   "source": [
    "def get_NN(fn, nNbor):\n",
    "    data = np.genfromtxt(\"../sim_Piston/data/piston_10000_1000_0_train.csv\", \n",
    "              delimiter = ',')\n",
    "    x = np.ascontiguousarray(data[:, 0 : d].astype(np.float32))"
   ]
  },
  {
   "cell_type": "code",
   "execution_count": 4,
   "id": "75c6b607",
   "metadata": {},
   "outputs": [],
   "source": [
    "n, d = data.shape\n",
    "d = d - 1"
   ]
  },
  {
   "cell_type": "code",
   "execution_count": 5,
   "id": "9ce11044",
   "metadata": {},
   "outputs": [],
   "source": [
    "x = data[:, 0 : d]\n",
    "y = data[:, d]\n",
    "xTmp = np.ascontiguousarray(x.astype(np.float32))"
   ]
  },
  {
   "cell_type": "code",
   "execution_count": 6,
   "id": "54537cd9",
   "metadata": {},
   "outputs": [],
   "source": [
    "nNbor = 10"
   ]
  },
  {
   "cell_type": "code",
   "execution_count": 7,
   "id": "db7409a3",
   "metadata": {},
   "outputs": [],
   "source": [
    "index = faiss.IndexFlatL2(d)\n",
    "index.add(xTmp)\n",
    "DExct, IExct = index.search(xTmp, nNbor)"
   ]
  },
  {
   "cell_type": "code",
   "execution_count": 8,
   "id": "009ce4cc",
   "metadata": {},
   "outputs": [
    {
     "data": {
      "text/plain": [
       "array([[   0, 6288,  880, ...,  777, 7113, 1363],\n",
       "       [   1, 2868, 3855, ..., 4151, 6430, 2434],\n",
       "       [   2,  446,  178, ..., 6294, 6802,  222],\n",
       "       ...,\n",
       "       [7497,  414, 1418, ...,   53, 3865, 4824],\n",
       "       [7498, 3555, 5787, ..., 3258, 2431, 2495],\n",
       "       [7499, 7071, 5377, ..., 3733, 2788,   30]])"
      ]
     },
     "execution_count": 8,
     "metadata": {},
     "output_type": "execute_result"
    }
   ],
   "source": [
    "IExct"
   ]
  },
  {
   "cell_type": "code",
   "execution_count": 15,
   "id": "69e8c9d4",
   "metadata": {},
   "outputs": [
    {
     "data": {
      "text/plain": [
       "array([[0.0000000e+00, 4.3481543e+02, 4.3583728e+02, 4.3634338e+02,\n",
       "        4.3878003e+02, 4.3997766e+02, 4.4135608e+02, 4.4269189e+02,\n",
       "        4.4286816e+02, 4.4317395e+02],\n",
       "       [2.4414062e-04, 4.3723242e+02, 4.3872522e+02, 4.3955920e+02,\n",
       "        4.4073303e+02, 4.4253894e+02, 4.4358191e+02, 4.4421545e+02,\n",
       "        4.4477368e+02, 4.4650598e+02],\n",
       "       [1.2207031e-04, 4.3646167e+02, 4.3796155e+02, 4.4272156e+02,\n",
       "        4.4325732e+02, 4.4629028e+02, 4.4708508e+02, 4.4741174e+02,\n",
       "        4.4863342e+02, 4.4905774e+02],\n",
       "       [0.0000000e+00, 4.4349854e+02, 4.4603235e+02, 4.4739172e+02,\n",
       "        4.4762451e+02, 4.4873364e+02, 4.4965759e+02, 4.4992285e+02,\n",
       "        4.5070984e+02, 4.5121814e+02],\n",
       "       [6.1035156e-04, 4.3753967e+02, 4.4800781e+02, 4.5205017e+02,\n",
       "        4.5493127e+02, 4.5550806e+02, 4.5589587e+02, 4.5590759e+02,\n",
       "        4.5615027e+02, 4.5666492e+02],\n",
       "       [0.0000000e+00, 4.3655762e+02, 4.4004956e+02, 4.4022009e+02,\n",
       "        4.4139526e+02, 4.4146155e+02, 4.4201062e+02, 4.4279858e+02,\n",
       "        4.4282690e+02, 4.4324890e+02],\n",
       "       [2.4414062e-04, 4.3529956e+02, 4.3786084e+02, 4.4159766e+02,\n",
       "        4.4164990e+02, 4.4272437e+02, 4.4344373e+02, 4.4425342e+02,\n",
       "        4.4486108e+02, 4.4486218e+02],\n",
       "       [1.2207031e-04, 4.2417358e+02, 4.2986316e+02, 4.3328796e+02,\n",
       "        4.3381348e+02, 4.3404346e+02, 4.3420178e+02, 4.3584827e+02,\n",
       "        4.3594702e+02, 4.3615808e+02],\n",
       "       [1.2207031e-04, 4.4119763e+02, 4.4392603e+02, 4.5165161e+02,\n",
       "        4.5306274e+02, 4.5326660e+02, 4.5385852e+02, 4.5448389e+02,\n",
       "        4.5856372e+02, 4.5975830e+02],\n",
       "       [0.0000000e+00, 4.4086450e+02, 4.4319958e+02, 4.4368213e+02,\n",
       "        4.4478296e+02, 4.5269263e+02, 4.5287207e+02, 4.5417004e+02,\n",
       "        4.5490576e+02, 4.5494824e+02]], dtype=float32)"
      ]
     },
     "execution_count": 15,
     "metadata": {},
     "output_type": "execute_result"
    }
   ],
   "source": [
    "DExct[:10, :]"
   ]
  },
  {
   "cell_type": "code",
   "execution_count": 29,
   "id": "d5e29502",
   "metadata": {},
   "outputs": [
    {
     "name": "stderr",
     "output_type": "stream",
     "text": [
      "WARNING clustering 7500 points to 1024 centroids: please provide at least 39936 training points\n"
     ]
    }
   ],
   "source": [
    "m = 10  # number of centroid IDs in final compressed vectors\n",
    "bits = 8 # number of bits in each centroid\n",
    "nlist = 50  # how many cells\n",
    "\n",
    "quantizer = faiss.IndexFlatL2(d)  # we keep the same L2 distance flat index\n",
    "index = faiss.IndexIVFFlat(quantizer, d, 1024)\n",
    "index.train(xTmp)\n",
    "index.add(xTmp)\n",
    "index.nprobe = 16\n",
    "DAprx, IAprx = index.search(xTmp, nNbor)"
   ]
  },
  {
   "cell_type": "code",
   "execution_count": 30,
   "id": "f5ccd873",
   "metadata": {},
   "outputs": [
    {
     "data": {
      "text/plain": [
       "array([[   0,  949,  144, ..., 2663, 1342, 5626],\n",
       "       [   1, 6005, 4151, ..., 6485,  949,  490],\n",
       "       [   2,  446, 6280, ..., 7134, 1184,  320],\n",
       "       ...,\n",
       "       [7497,  414, 3141, ..., 5205, 7364, 6297],\n",
       "       [7498, 6579, 4735, ..., 1497, 5970, 2688],\n",
       "       [7499, 7071, 1120, ..., 4494, 1151, 7088]])"
      ]
     },
     "execution_count": 30,
     "metadata": {},
     "output_type": "execute_result"
    }
   ],
   "source": [
    "IAprx"
   ]
  },
  {
   "cell_type": "code",
   "execution_count": 31,
   "id": "c5989747",
   "metadata": {},
   "outputs": [
    {
     "data": {
      "text/plain": [
       "array([[  0.     , 438.7799 , 439.97784, 442.86804, 443.61316, 444.57013,\n",
       "        445.69995, 446.25156, 447.98285, 448.29053],\n",
       "       [  0.     , 443.58185, 444.21515, 446.5058 , 448.2094 , 449.4736 ,\n",
       "        450.7041 , 452.1266 , 452.50992, 453.6408 ],\n",
       "       [  0.     , 436.4618 , 446.29025, 447.41205, 448.63336, 450.64725,\n",
       "        450.88205, 452.8487 , 455.88266, 455.89383],\n",
       "       [  0.     , 446.03232, 447.62454, 449.92285, 450.7096 , 451.65286,\n",
       "        452.20844, 453.60825, 453.63947, 453.72668],\n",
       "       [  0.     , 437.5395 , 448.00732, 455.8957 , 455.90717, 458.3242 ,\n",
       "        461.03632, 461.9361 , 463.2874 , 464.6798 ],\n",
       "       [  0.     , 440.04974, 441.4617 , 443.3247 , 447.9015 , 449.60315,\n",
       "        449.6082 , 449.61362, 449.74905, 451.00143],\n",
       "       [  0.     , 442.72412, 445.92322, 448.08057, 450.14767, 450.64093,\n",
       "        450.6729 , 451.57556, 451.90964, 452.12762],\n",
       "       [  0.     , 424.17355, 429.86295, 433.2879 , 433.81348, 434.20142,\n",
       "        436.66153, 436.81726, 437.12585, 437.69714],\n",
       "       [  0.     , 451.65134, 463.44583, 464.43976, 464.62674, 464.86035,\n",
       "        466.68097, 468.0644 , 468.44153, 468.5507 ],\n",
       "       [  0.     , 440.86487, 454.9479 , 455.73566, 457.28387, 459.163  ,\n",
       "        459.3302 , 459.82358, 460.59564, 460.79   ]], dtype=float32)"
      ]
     },
     "execution_count": 31,
     "metadata": {},
     "output_type": "execute_result"
    }
   ],
   "source": [
    "DAprx[:10, :]"
   ]
  },
  {
   "cell_type": "code",
   "execution_count": null,
   "id": "43235cb8",
   "metadata": {},
   "outputs": [],
   "source": []
  }
 ],
 "metadata": {
  "kernelspec": {
   "display_name": "Python 3 (ipykernel)",
   "language": "python",
   "name": "python3"
  },
  "language_info": {
   "codemirror_mode": {
    "name": "ipython",
    "version": 3
   },
   "file_extension": ".py",
   "mimetype": "text/x-python",
   "name": "python",
   "nbconvert_exporter": "python",
   "pygments_lexer": "ipython3",
   "version": "3.9.7"
  }
 },
 "nbformat": 4,
 "nbformat_minor": 5
}
