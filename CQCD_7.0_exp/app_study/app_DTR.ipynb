{
 "cells": [
  {
   "cell_type": "code",
   "execution_count": 1,
   "id": "1a04f800",
   "metadata": {},
   "outputs": [],
   "source": [
    "import numpy as np\n",
    "from sklearn.tree import DecisionTreeRegressor"
   ]
  },
  {
   "cell_type": "code",
   "execution_count": 2,
   "id": "95620126",
   "metadata": {},
   "outputs": [],
   "source": [
    "dataFn = \"slice_localization_data\"\n",
    "dataTrain = np.genfromtxt(dataFn + \"_train.csv\", delimiter = \",\")\n",
    "dataTest = np.genfromtxt(dataFn + \"_test.csv\", delimiter = \",\")"
   ]
  },
  {
   "cell_type": "code",
   "execution_count": 3,
   "id": "fdb878d4",
   "metadata": {},
   "outputs": [],
   "source": [
    "nTrain = dataTrain.shape[0]\n",
    "nTest = dataTest.shape[0]\n",
    "nOOS = int(min(nTrain / 2, 5e3))\n",
    "d = dataTrain.shape[1] - 1\n",
    "\n",
    "np.random.seed(123)\n",
    "idxOOS = np.random.choice(nTrain, nOOS, replace = False)\n",
    "XTrain = np.delete(dataTrain[:, :d], idxOOS, axis = 0)\n",
    "XOOS = dataTrain[idxOOS, :d]\n",
    "XTest = dataTest[:, :d]\n",
    "yTrain = np.delete(dataTrain[:, d], idxOOS)\n",
    "yOOS = dataTrain[idxOOS, d]\n",
    "yTest = dataTest[:, d]\n",
    "\n",
    "nTrain = nTrain - nOOS"
   ]
  },
  {
   "cell_type": "code",
   "execution_count": 4,
   "id": "eacfacc1",
   "metadata": {},
   "outputs": [],
   "source": [
    "depths = range(3, 20)\n",
    "OOSScores = []\n",
    "for i in depths:\n",
    "    regTree = DecisionTreeRegressor(max_depth = i, max_features = 100)\n",
    "    regTree.fit(XTrain, yTrain)\n",
    "    yOOSPred = regTree.predict(XOOS)\n",
    "    OOSScores.append(np.sqrt(np.square(yOOSPred - yOOS).sum() / nOOS))\n",
    "    if np.argmin(OOSScores) == len(OOSScores) - 1:\n",
    "        regTreeBest = regTree\n",
    "    else:\n",
    "        break"
   ]
  },
  {
   "cell_type": "code",
   "execution_count": 5,
   "id": "16c392c6",
   "metadata": {},
   "outputs": [
    {
     "data": {
      "text/plain": [
       "856426.2649620692"
      ]
     },
     "execution_count": 5,
     "metadata": {},
     "output_type": "execute_result"
    }
   ],
   "source": [
    "yTestPred = regTreeBest.predict(XTest)\n",
    "np.square(yTest - yTestPred).sum()"
   ]
  },
  {
   "cell_type": "code",
   "execution_count": 6,
   "id": "5692430a",
   "metadata": {},
   "outputs": [
    {
     "data": {
      "text/plain": [
       "[13.979366127648078,\n",
       " 11.939789268556867,\n",
       " 11.297408087502038,\n",
       " 10.087056162890981,\n",
       " 9.62550867471987,\n",
       " 7.25251579669153,\n",
       " 7.0269638846175955,\n",
       " 6.059850104208275,\n",
       " 4.9603112683922115,\n",
       " 4.6344862768376585,\n",
       " 4.202281003601542,\n",
       " 4.126243162024182,\n",
       " 3.7096649598663043,\n",
       " 3.4382698729155674,\n",
       " 3.824831261676037]"
      ]
     },
     "execution_count": 6,
     "metadata": {},
     "output_type": "execute_result"
    }
   ],
   "source": [
    "OOSScores"
   ]
  },
  {
   "cell_type": "code",
   "execution_count": 11,
   "id": "7ea3b6dc",
   "metadata": {},
   "outputs": [
    {
     "data": {
      "text/plain": [
       "379"
      ]
     },
     "execution_count": 11,
     "metadata": {},
     "output_type": "execute_result"
    }
   ],
   "source": [
    "regTreeBest.n_features_in_"
   ]
  },
  {
   "cell_type": "code",
   "execution_count": 13,
   "id": "22cdc888",
   "metadata": {},
   "outputs": [
    {
     "data": {
      "text/plain": [
       "361"
      ]
     },
     "execution_count": 13,
     "metadata": {},
     "output_type": "execute_result"
    }
   ],
   "source": [
    "(regTreeBest.feature_importances_ > 0).sum()"
   ]
  },
  {
   "cell_type": "code",
   "execution_count": null,
   "id": "d2ef9ed5",
   "metadata": {},
   "outputs": [],
   "source": []
  }
 ],
 "metadata": {
  "kernelspec": {
   "display_name": "Python 3 (ipykernel)",
   "language": "python",
   "name": "python3"
  },
  "language_info": {
   "codemirror_mode": {
    "name": "ipython",
    "version": 3
   },
   "file_extension": ".py",
   "mimetype": "text/x-python",
   "name": "python",
   "nbconvert_exporter": "python",
   "pygments_lexer": "ipython3",
   "version": "3.9.7"
  }
 },
 "nbformat": 4,
 "nbformat_minor": 5
}
