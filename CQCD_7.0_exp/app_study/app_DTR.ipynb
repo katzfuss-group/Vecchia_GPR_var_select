{
 "cells": [
  {
   "cell_type": "code",
   "execution_count": 1,
   "id": "1a04f800",
   "metadata": {},
   "outputs": [],
   "source": [
    "import numpy as np\n",
    "import re\n",
    "from sklearn.tree import DecisionTreeRegressor"
   ]
  },
  {
   "cell_type": "code",
   "execution_count": 2,
   "id": "95620126",
   "metadata": {},
   "outputs": [],
   "source": [
    "dataFn = \"CASP_f991_dep\"\n",
    "dataTrain = np.genfromtxt(dataFn + \"_train.csv\", delimiter = \",\")\n",
    "dataTest = np.genfromtxt(dataFn + \"_test.csv\", delimiter = \",\")\n",
    "fkMatch = re.search(r\"f([0-9]+)\", dataFn)\n",
    "if fkMatch:\n",
    "    dF = int(fkMatch.group(1))\n",
    "else:\n",
    "    dF = 0  \n",
    "dT = dataTrain.shape[1] - dF - 1"
   ]
  },
  {
   "cell_type": "code",
   "execution_count": 3,
   "id": "fdb878d4",
   "metadata": {},
   "outputs": [],
   "source": [
    "nTrain = dataTrain.shape[0]\n",
    "nTest = dataTest.shape[0]\n",
    "nOOS = int(min(nTrain / 2, 5e3))\n",
    "d = dataTrain.shape[1] - 1\n",
    "\n",
    "np.random.seed(123)\n",
    "idxOOS = np.random.choice(nTrain, nOOS, replace = False)\n",
    "XTrain = np.delete(dataTrain[:, :d], idxOOS, axis = 0)\n",
    "XOOS = dataTrain[idxOOS, :d]\n",
    "XTest = dataTest[:, :d]\n",
    "yTrain = np.delete(dataTrain[:, d], idxOOS)\n",
    "yOOS = dataTrain[idxOOS, d]\n",
    "yTest = dataTest[:, d]\n",
    "\n",
    "nTrain = nTrain - nOOS"
   ]
  },
  {
   "cell_type": "code",
   "execution_count": 4,
   "id": "eacfacc1",
   "metadata": {},
   "outputs": [],
   "source": [
    "depths = range(3, 20)\n",
    "OOSScores = []\n",
    "for i in depths:\n",
    "    regTree = DecisionTreeRegressor(max_depth = i, max_features = min(100, XTrain.shape[1]), random_state = 123)\n",
    "    regTree.fit(XTrain, yTrain)\n",
    "    yOOSPred = regTree.predict(XOOS)\n",
    "    OOSScores.append(np.sqrt(np.square(yOOSPred - yOOS).sum() / nOOS))\n",
    "    if np.argmin(OOSScores) == len(OOSScores) - 1:\n",
    "        regTreeBest = regTree\n",
    "    else:\n",
    "        break"
   ]
  },
  {
   "cell_type": "code",
   "execution_count": 5,
   "id": "16c392c6",
   "metadata": {},
   "outputs": [
    {
     "data": {
      "text/plain": [
       "0.8438246020212803"
      ]
     },
     "execution_count": 5,
     "metadata": {},
     "output_type": "execute_result"
    }
   ],
   "source": [
    "yTestPred = regTreeBest.predict(XTest)\n",
    "np.square(yTest - yTestPred).sum() / np.var(yTest) / XTest.shape[0]"
   ]
  },
  {
   "cell_type": "code",
   "execution_count": 6,
   "id": "5692430a",
   "metadata": {},
   "outputs": [
    {
     "data": {
      "text/plain": [
       "[5.644093846699301, 5.621423875410234, 5.640117222796912]"
      ]
     },
     "execution_count": 6,
     "metadata": {},
     "output_type": "execute_result"
    }
   ],
   "source": [
    "OOSScores"
   ]
  },
  {
   "cell_type": "code",
   "execution_count": 7,
   "id": "22cdc888",
   "metadata": {},
   "outputs": [
    {
     "data": {
      "text/plain": [
       "10"
      ]
     },
     "execution_count": 7,
     "metadata": {},
     "output_type": "execute_result"
    }
   ],
   "source": [
    "(regTreeBest.feature_importances_ > 0).sum()"
   ]
  },
  {
   "cell_type": "code",
   "execution_count": 8,
   "id": "bd9af64f",
   "metadata": {},
   "outputs": [
    {
     "data": {
      "text/plain": [
       "0.5"
      ]
     },
     "execution_count": 8,
     "metadata": {},
     "output_type": "execute_result"
    }
   ],
   "source": [
    "np.sum((regTreeBest.feature_importances_ > 0).nonzero()[0] >= dT) / (regTreeBest.feature_importances_ > 0).sum()"
   ]
  },
  {
   "cell_type": "code",
   "execution_count": null,
   "id": "691ee13f",
   "metadata": {},
   "outputs": [],
   "source": []
  }
 ],
 "metadata": {
  "kernelspec": {
   "display_name": "Python 3 (ipykernel)",
   "language": "python",
   "name": "python3"
  },
  "language_info": {
   "codemirror_mode": {
    "name": "ipython",
    "version": 3
   },
   "file_extension": ".py",
   "mimetype": "text/x-python",
   "name": "python",
   "nbconvert_exporter": "python",
   "pygments_lexer": "ipython3",
   "version": "3.9.7"
  }
 },
 "nbformat": 4,
 "nbformat_minor": 5
}
